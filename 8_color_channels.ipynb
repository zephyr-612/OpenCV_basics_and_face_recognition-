{
 "cells": [
  {
   "cell_type": "code",
   "execution_count": 1,
   "metadata": {},
   "outputs": [
    {
     "name": "stdout",
     "output_type": "stream",
     "text": [
      "(427, 640, 3)\n",
      "(427, 640)\n",
      "(427, 640)\n",
      "(427, 640)\n"
     ]
    }
   ],
   "source": [
    "import cv2 as cv\n",
    "import numpy as np\n",
    "\n",
    "img = cv.imread(\"H:\\Code\\Py\\KIIT ML\\OpenCV\\Photos\\park.jpg\")\n",
    "cv.imshow(\"img\", img)\n",
    "\n",
    "b, g, r = cv.split(img)\n",
    "\n",
    "cv.imshow(\"Blue\", b)\n",
    "cv.imshow(\"Green\", g)\n",
    "cv.imshow(\"Red\", r)\n",
    "\n",
    "print(img.shape)\n",
    "print(b.shape)\n",
    "print(g.shape)\n",
    "print(r.shape)\n",
    "\n",
    "cv.waitKey(0)\n",
    "cv.destroyAllWindows()"
   ]
  },
  {
   "cell_type": "code",
   "execution_count": 3,
   "metadata": {},
   "outputs": [],
   "source": [
    "merged = cv.merge([b, g, r])\n",
    "cv.imshow(\"Merged\", merged)\n",
    "\n",
    "cv.waitKey(0)\n",
    "cv.destroyAllWindows()"
   ]
  },
  {
   "cell_type": "code",
   "execution_count": 4,
   "metadata": {},
   "outputs": [],
   "source": [
    "blank = np.zeros(img.shape[:2], dtype=\"uint8\")\n",
    "cv.imshow(\"blank\", blank)\n",
    "\n",
    "blue = cv.merge([b, blank, blank])\n",
    "green = cv.merge([blank, g, blank])\n",
    "red = cv.merge([blank, blank, r])\n",
    "\n",
    "cv.imshow(\"blue\", blue)\n",
    "cv.imshow(\"green\", green)\n",
    "cv.imshow(\"red\", red)\n",
    "\n",
    "cv.waitKey(0)\n",
    "cv.destroyAllWindows()"
   ]
  }
 ],
 "metadata": {
  "kernelspec": {
   "display_name": "Python 3",
   "language": "python",
   "name": "python3"
  },
  "language_info": {
   "codemirror_mode": {
    "name": "ipython",
    "version": 3
   },
   "file_extension": ".py",
   "mimetype": "text/x-python",
   "name": "python",
   "nbconvert_exporter": "python",
   "pygments_lexer": "ipython3",
   "version": "3.11.7"
  }
 },
 "nbformat": 4,
 "nbformat_minor": 2
}

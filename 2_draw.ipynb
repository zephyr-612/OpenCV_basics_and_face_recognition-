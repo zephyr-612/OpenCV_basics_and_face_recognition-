{
 "cells": [
  {
   "cell_type": "code",
   "execution_count": 1,
   "metadata": {},
   "outputs": [],
   "source": [
    "import cv2 as cv\n",
    "import numpy as np\n",
    "\n",
    "blank = np.zeros((500, 500), dtype=\"uint8\")\n",
    "cv.imshow(\"Blank\", blank)\n",
    "img = cv.imread(\"H:\\Code\\Py\\KIIT ML\\OpenCV\\Photos\\cat.jpg\")\n",
    "cv.imshow(\"Image\", img)\n",
    "cv.waitKey(0)\n",
    "cv.destroyAllWindows()"
   ]
  },
  {
   "cell_type": "markdown",
   "metadata": {},
   "source": [
    "Paint\n"
   ]
  },
  {
   "cell_type": "code",
   "execution_count": 2,
   "metadata": {},
   "outputs": [],
   "source": [
    "blank = np.zeros((500, 500, 3), dtype=\"uint8\")\n",
    "blank[:] = 0, 255, 0  # [:] means reference all pixels\n",
    "cv.imshow(\"Blank with color\", blank)\n",
    "cv.waitKey(0)\n",
    "cv.destroyAllWindows()"
   ]
  },
  {
   "cell_type": "code",
   "execution_count": 3,
   "metadata": {},
   "outputs": [],
   "source": [
    "blank[200:300, 300:400] = 0, 0, 255\n",
    "cv.imshow(\"red\", blank)\n",
    "cv.waitKey(0)\n",
    "cv.destroyAllWindows()"
   ]
  },
  {
   "cell_type": "code",
   "execution_count": 4,
   "metadata": {},
   "outputs": [],
   "source": [
    "blank = np.zeros((500, 500, 3), dtype=\"uint8\")\n",
    "cv.rectangle(blank, (0, 0), (250, 250), (0, 255, 0), thickness=2)\n",
    "cv.imshow(\"Rectangle\", blank)\n",
    "cv.waitKey(0)\n",
    "cv.destroyAllWindows()"
   ]
  },
  {
   "cell_type": "code",
   "execution_count": 5,
   "metadata": {},
   "outputs": [],
   "source": [
    "blank = np.zeros((500, 500, 3), dtype=\"uint8\")\n",
    "cv.rectangle(\n",
    "    blank, (0, 0), (250, 500), (255, 10, 100), thickness=cv.FILLED\n",
    ")  # or we can write thickness=-1\n",
    "cv.imshow(\"Rectangle Filled\", blank)\n",
    "cv.circle(blank, (250, 250), 40, (0, 0, 255), thickness=3)\n",
    "cv.imshow(\"circle\", blank)\n",
    "cv.line(blank, (100, 250), (300, 400), (255, 255, 255), thickness=3)\n",
    "cv.imshow(\"Line\", blank)\n",
    "cv.waitKey(0)\n",
    "cv.destroyAllWindows()"
   ]
  },
  {
   "cell_type": "code",
   "execution_count": 6,
   "metadata": {},
   "outputs": [],
   "source": [
    "blank = np.zeros((500, 1000, 3), dtype=\"uint8\")\n",
    "cv.putText(\n",
    "    blank,\n",
    "    \"Hello, Zephyr here...\",\n",
    "    (325, 250),\n",
    "    cv.FONT_HERSHEY_TRIPLEX,\n",
    "    1.0,\n",
    "    (0, 255, 0),\n",
    "    thickness=2,\n",
    ")\n",
    "cv.imshow(\"text\", blank)\n",
    "cv.waitKey(0)\n",
    "cv.destroyAllWindows()"
   ]
  }
 ],
 "metadata": {
  "kernelspec": {
   "display_name": "Python 3",
   "language": "python",
   "name": "python3"
  },
  "language_info": {
   "codemirror_mode": {
    "name": "ipython",
    "version": 3
   },
   "file_extension": ".py",
   "mimetype": "text/x-python",
   "name": "python",
   "nbconvert_exporter": "python",
   "pygments_lexer": "ipython3",
   "version": "3.11.8"
  }
 },
 "nbformat": 4,
 "nbformat_minor": 2
}

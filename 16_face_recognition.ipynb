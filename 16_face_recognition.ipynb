{
 "cells": [
  {
   "cell_type": "code",
   "execution_count": 5,
   "metadata": {},
   "outputs": [
    {
     "name": "stdout",
     "output_type": "stream",
     "text": [
      "Training done---------\n",
      "length of the features = 100\n",
      "length of labels = 100\n"
     ]
    }
   ],
   "source": [
    "import os\n",
    "import cv2 as cv\n",
    "import numpy as np\n",
    "\n",
    "people = [\"Ben Afflek\", \"Elton John\", \"Jerry Seinfield\", \"Madonna\", \"Mindy Kaling\"]\n",
    "DIR = r\"H:\\Code\\Py\\KIIT ML\\OpenCV\\Faces\\train\"\n",
    "features = []\n",
    "labels = []\n",
    "\n",
    "haar_cascade = cv.CascadeClassifier(\"haar_face.xml\")\n",
    "\n",
    "\n",
    "def create_train():\n",
    "    for person in people:\n",
    "        path = os.path.join(DIR, person)\n",
    "        label = people.index(person)\n",
    "\n",
    "        for img in os.listdir(path):\n",
    "            img_path = os.path.join(path, img)\n",
    "\n",
    "            img_array = cv.imread(img_path)\n",
    "            gray = cv.cvtColor(img_array, cv.COLOR_BGR2GRAY)\n",
    "\n",
    "            faces_rect = haar_cascade.detectMultiScale(\n",
    "                gray, scaleFactor=1.1, minNeighbors=4\n",
    "            )\n",
    "\n",
    "            for x, y, w, h in faces_rect:\n",
    "                faces_roi = gray[y : y + h, x : x + w]\n",
    "                features.append(faces_roi)\n",
    "                labels.append(label)\n",
    "\n",
    "\n",
    "create_train()\n",
    "print(\"Training done---------\")\n",
    "\n",
    "print(f\"length of the features = {len(features)}\")\n",
    "print(f\"length of labels = {len(labels)}\")\n",
    "\n",
    "face_recognizer = cv.face.LBPHFaceRecognizer_create()\n",
    "\n",
    "# train the recognizer on the features list and the labels list\n",
    "\n",
    "features = np.array(features, dtype=\"object\")\n",
    "labels = np.array(labels)\n",
    "face_recognizer.train(features, labels)\n",
    "\n",
    "face_recognizer.save(\"face_trained.yml\")\n",
    "np.save(\"features.npy\", features)\n",
    "np.save(\"labels.npy\", labels)"
   ]
  }
 ],
 "metadata": {
  "kernelspec": {
   "display_name": "Python 3",
   "language": "python",
   "name": "python3"
  },
  "language_info": {
   "codemirror_mode": {
    "name": "ipython",
    "version": 3
   },
   "file_extension": ".py",
   "mimetype": "text/x-python",
   "name": "python",
   "nbconvert_exporter": "python",
   "pygments_lexer": "ipython3",
   "version": "3.11.8"
  }
 },
 "nbformat": 4,
 "nbformat_minor": 2
}

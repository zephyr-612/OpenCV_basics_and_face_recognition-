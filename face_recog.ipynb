{
 "cells": [
  {
   "cell_type": "code",
   "execution_count": 2,
   "metadata": {},
   "outputs": [
    {
     "ename": "error",
     "evalue": "OpenCV(4.9.0) D:\\a\\opencv-python\\opencv-python\\opencv\\modules\\imgproc\\src\\color.cpp:196: error: (-215:Assertion failed) !_src.empty() in function 'cv::cvtColor'\n",
     "output_type": "error",
     "traceback": [
      "\u001b[1;31m---------------------------------------------------------------------------\u001b[0m",
      "\u001b[1;31merror\u001b[0m                                     Traceback (most recent call last)",
      "Cell \u001b[1;32mIn[2], line 15\u001b[0m\n\u001b[0;32m     11\u001b[0m face_reecognizer\u001b[38;5;241m.\u001b[39mread(\u001b[38;5;124m\"\u001b[39m\u001b[38;5;124mface_trained.yml\u001b[39m\u001b[38;5;124m\"\u001b[39m)\n\u001b[0;32m     13\u001b[0m img \u001b[38;5;241m=\u001b[39m cv\u001b[38;5;241m.\u001b[39mimread(\u001b[38;5;124m\"\u001b[39m\u001b[38;5;124mH:\u001b[39m\u001b[38;5;124m\\\u001b[39m\u001b[38;5;124mCode\u001b[39m\u001b[38;5;124m\\\u001b[39m\u001b[38;5;124mPy\u001b[39m\u001b[38;5;124m\\\u001b[39m\u001b[38;5;124mKIIT ML\u001b[39m\u001b[38;5;124m\\\u001b[39m\u001b[38;5;124mOpenCV\u001b[39m\u001b[38;5;124m\\\u001b[39m\u001b[38;5;124mFaces\u001b[39m\u001b[38;5;130;01m\\v\u001b[39;00m\u001b[38;5;124mal\u001b[39m\u001b[38;5;130;01m\\b\u001b[39;00m\u001b[38;5;124men_afflek\u001b[39m\u001b[38;5;130;01m\\2\u001b[39;00m\u001b[38;5;124m.jpg\u001b[39m\u001b[38;5;124m\"\u001b[39m)\n\u001b[1;32m---> 15\u001b[0m gray \u001b[38;5;241m=\u001b[39m \u001b[43mcv\u001b[49m\u001b[38;5;241;43m.\u001b[39;49m\u001b[43mcvtColor\u001b[49m\u001b[43m(\u001b[49m\u001b[43mimg\u001b[49m\u001b[43m,\u001b[49m\u001b[43m \u001b[49m\u001b[43mcv\u001b[49m\u001b[38;5;241;43m.\u001b[39;49m\u001b[43mCOLOR_BGR2GRAY\u001b[49m\u001b[43m)\u001b[49m\n\u001b[0;32m     16\u001b[0m cv\u001b[38;5;241m.\u001b[39mimshow(\u001b[38;5;124m\"\u001b[39m\u001b[38;5;124mPerson\u001b[39m\u001b[38;5;124m\"\u001b[39m, gray)\n\u001b[0;32m     18\u001b[0m \u001b[38;5;66;03m# detect the face in the image\u001b[39;00m\n",
      "\u001b[1;31merror\u001b[0m: OpenCV(4.9.0) D:\\a\\opencv-python\\opencv-python\\opencv\\modules\\imgproc\\src\\color.cpp:196: error: (-215:Assertion failed) !_src.empty() in function 'cv::cvtColor'\n"
     ]
    }
   ],
   "source": [
    "import numpy as np\n",
    "import cv2 as cv\n",
    "\n",
    "haar_cascade = cv.CascadeClassifier(\"haar_face.xml\")\n",
    "people = [\"Ben Affleck\", \"Elton John\", \"Jerry Seinfield\", \"Madonna\", \"Mindy Kaling\"]\n",
    "\n",
    "features = np.load(\"features.npy\", allow_pickle=True)\n",
    "labels = np.load(\"labels.npy\")\n",
    "\n",
    "face_reecognizer = cv.face.LBPHFaceRecognizer_create()\n",
    "face_reecognizer.read(\"face_trained.yml\")\n",
    "\n",
    "img = cv.imread(r\"H:\\Code\\Py\\KIIT ML\\OpenCV\\Faces\\val\\ben_afflek\\2.jpg\")\n",
    "\n",
    "gray = cv.cvtColor(img, cv.COLOR_BGR2GRAY)\n",
    "cv.imshow(\"Person\", gray)\n",
    "\n",
    "# detect the face in the image\n",
    "faces_rect = haar_cascade.detectMultiScale(gray, 1.1, 4)\n",
    "for x, y, w, h in faces_rect:\n",
    "    faces_roi = gray[y : y + h, x : x + w]\n",
    "\n",
    "    label, confidence = face_reecognizer.predict(faces_roi)\n",
    "    print(f\"label = {people[label]} with a confidence of {confidence}\")\n",
    "\n",
    "    cv.putText(\n",
    "        img,\n",
    "        str(people[label]),\n",
    "        (20, 20),\n",
    "        cv.FONT_HERSHEY_COMPLEX,\n",
    "        1.0,\n",
    "        (0, 255, 0),\n",
    "        thickness=1,\n",
    "    )\n",
    "    cv.rectangle(img, (x, y), (x + w, y + h), (0, 255, 0), thickness=2)\n",
    "\n",
    "    cv.imshow(\"Detected face\", img)\n",
    "\n",
    "    cv.waitKey(0)\n",
    "    cv.destroyAllWindows()"
   ]
  }
 ],
 "metadata": {
  "kernelspec": {
   "display_name": "Python 3",
   "language": "python",
   "name": "python3"
  },
  "language_info": {
   "codemirror_mode": {
    "name": "ipython",
    "version": 3
   },
   "file_extension": ".py",
   "mimetype": "text/x-python",
   "name": "python",
   "nbconvert_exporter": "python",
   "pygments_lexer": "ipython3",
   "version": "3.11.8"
  }
 },
 "nbformat": 4,
 "nbformat_minor": 2
}

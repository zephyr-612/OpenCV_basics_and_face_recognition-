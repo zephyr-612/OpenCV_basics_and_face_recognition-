{
 "cells": [
  {
   "cell_type": "code",
   "execution_count": 8,
   "metadata": {},
   "outputs": [],
   "source": [
    "import cv2 as cv\n",
    "\n",
    "img = cv.imread(\"H:\\Code\\Py\\KIIT ML\\OpenCV\\Photos\\cats.jpg\")\n",
    "cv.imshow(\"img\", img)\n",
    "\n",
    "cv.waitKey(0)\n",
    "cv.destroyAllWindows()"
   ]
  },
  {
   "cell_type": "code",
   "execution_count": 14,
   "metadata": {},
   "outputs": [],
   "source": [
    "# Averaging\n",
    "average = cv.blur(img, (7, 7))\n",
    "cv.imshow(\"average blur\", average)\n",
    "\n",
    "# Gaussian \n",
    "gauss = cv.GaussianBlur(img, (7,7), 0)\n",
    "cv.imshow(\"Gaussian blur\", gauss)\n",
    "\n",
    "# Median\n",
    "median = cv.medianBlur(img, 3)\n",
    "cv.imshow(\"median blur\", median)\n",
    "\n",
    "# Bilateral\n",
    "bilateral = cv.bilateralFilter(img, 10, 35, 25)\n",
    "cv.imshow('bilateral blur', bilateral)\n",
    "\n",
    "cv.waitKey(0)\n",
    "cv.destroyAllWindows()"
   ]
  }
 ],
 "metadata": {
  "kernelspec": {
   "display_name": "Python 3",
   "language": "python",
   "name": "python3"
  },
  "language_info": {
   "codemirror_mode": {
    "name": "ipython",
    "version": 3
   },
   "file_extension": ".py",
   "mimetype": "text/x-python",
   "name": "python",
   "nbconvert_exporter": "python",
   "pygments_lexer": "ipython3",
   "version": "3.11.7"
  }
 },
 "nbformat": 4,
 "nbformat_minor": 2
}

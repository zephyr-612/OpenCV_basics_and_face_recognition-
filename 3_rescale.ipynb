{
 "cells": [
  {
   "cell_type": "code",
   "execution_count": 2,
   "metadata": {},
   "outputs": [
    {
     "data": {
      "text/plain": [
       "-1"
      ]
     },
     "execution_count": 2,
     "metadata": {},
     "output_type": "execute_result"
    }
   ],
   "source": [
    "import cv2 as cv\n",
    "\n",
    "\n",
    "def rescaleFrame(frame, scale=0.5):\n",
    "    width = int(frame.shape[1] * scale)\n",
    "    height = int(frame.shape[0] * scale)\n",
    "\n",
    "    dimensions = (width, height)\n",
    "\n",
    "    return cv.resize(frame, dimensions, interpolation=cv.INTER_AREA)\n",
    "\n",
    "\n",
    "capture = cv.VideoCapture(\"H:\\Code\\Py\\KIIT ML\\OpenCV\\Videos\\dog.mp4\")\n",
    "while True:\n",
    "    isTrue, frame = capture.read()\n",
    "    frame_resized = rescaleFrame(frame)\n",
    "    cv.imshow(\"video\", frame)\n",
    "    cv.imshow(\"video resized\", frame_resized)\n",
    "\n",
    "    if cv.waitKey(20) & 0xFF == ord(\"d\"):\n",
    "        break\n",
    "\n",
    "capture.release()\n",
    "cv.destroyAllWindows()\n",
    "cv.waitKey(0)"
   ]
  },
  {
   "cell_type": "code",
   "execution_count": 1,
   "metadata": {},
   "outputs": [
    {
     "ename": "NameError",
     "evalue": "name 'cv' is not defined",
     "output_type": "error",
     "traceback": [
      "\u001b[1;31m---------------------------------------------------------------------------\u001b[0m",
      "\u001b[1;31mNameError\u001b[0m                                 Traceback (most recent call last)",
      "Cell \u001b[1;32mIn[1], line 1\u001b[0m\n\u001b[1;32m----> 1\u001b[0m img \u001b[38;5;241m=\u001b[39m \u001b[43mcv\u001b[49m\u001b[38;5;241m.\u001b[39mimread(\u001b[38;5;124m\"\u001b[39m\u001b[38;5;124mH:\u001b[39m\u001b[38;5;124m\\\u001b[39m\u001b[38;5;124mCode\u001b[39m\u001b[38;5;124m\\\u001b[39m\u001b[38;5;124mPy\u001b[39m\u001b[38;5;124m\\\u001b[39m\u001b[38;5;124mKIIT ML\u001b[39m\u001b[38;5;124m\\\u001b[39m\u001b[38;5;124mOpenCV\u001b[39m\u001b[38;5;124m\\\u001b[39m\u001b[38;5;124mPhotos\u001b[39m\u001b[38;5;124m\\\u001b[39m\u001b[38;5;124mcat.jpg\u001b[39m\u001b[38;5;124m\"\u001b[39m)\n\u001b[0;32m      2\u001b[0m cv\u001b[38;5;241m.\u001b[39mimshow(\u001b[38;5;124m\"\u001b[39m\u001b[38;5;124mCat_large\u001b[39m\u001b[38;5;124m\"\u001b[39m, img)\n\u001b[0;32m      3\u001b[0m image_resized \u001b[38;5;241m=\u001b[39m rescaleFrame(img)\n",
      "\u001b[1;31mNameError\u001b[0m: name 'cv' is not defined"
     ]
    }
   ],
   "source": [
    "img = cv.imread(\"H:\\Code\\Py\\KIIT ML\\OpenCV\\Photos\\cat.jpg\")\n",
    "cv.imshow(\"Cat_large\", img)\n",
    "image_resized = rescaleFrame(img)\n",
    "cv.imshow(\"Resized Image\", image_resized)\n",
    "cv.waitKey(0)"
   ]
  },
  {
   "cell_type": "code",
   "execution_count": null,
   "metadata": {},
   "outputs": [],
   "source": [
    "def changeRes(width, height):\n",
    "    capture.set(3, width)\n",
    "    capture.set(4, height)\n",
    "\n",
    "\n",
    "# only works with live video"
   ]
  }
 ],
 "metadata": {
  "kernelspec": {
   "display_name": "Python 3",
   "language": "python",
   "name": "python3"
  },
  "language_info": {
   "codemirror_mode": {
    "name": "ipython",
    "version": 3
   },
   "file_extension": ".py",
   "mimetype": "text/x-python",
   "name": "python",
   "nbconvert_exporter": "python",
   "pygments_lexer": "ipython3",
   "version": "3.11.8"
  }
 },
 "nbformat": 4,
 "nbformat_minor": 2
}

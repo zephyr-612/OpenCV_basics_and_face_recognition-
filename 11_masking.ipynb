{
 "cells": [
  {
   "cell_type": "code",
   "execution_count": 11,
   "metadata": {},
   "outputs": [],
   "source": [
    "import cv2 as cv\n",
    "import numpy as np\n",
    "\n",
    "img = cv.imread(\"H:\\Code\\Py\\KIIT ML\\OpenCV\\Photos\\cats.jpg\")\n",
    "cv.imshow(\"img\", img)\n",
    "\n",
    "blank = np.zeros(img.shape[:2], dtype=\"uint8\")\n",
    "cv.imshow(\"Blank Image\", blank)\n",
    "\n",
    "\"\"\" mask1 = cv.circle(blank, (img.shape[1] // 2 + 45, img.shape[0] // 2), 100, 255, -1)\n",
    "cv.imshow(\"Mask\", mask1)\n",
    " \"\"\"\n",
    "\"\"\" masked = cv.bitwise_and(img, img, mask=mask1)\n",
    "cv.imshow(\"masked image\", masked) \"\"\"\n",
    "\n",
    "circle = cv.circle(\n",
    "    blank.copy(), (img.shape[1] // 2 + 45, img.shape[0] // 2), 100, 255, -1\n",
    ")\n",
    "\n",
    "rectangle = cv.rectangle(blank.copy(), (30, 30), (370, 370), 255, -1)\n",
    "\n",
    "weird_shape = cv.bitwise_and(circle, rectangle)\n",
    "cv.imshow(\"weird Shape\", weird_shape)\n",
    "\n",
    "masked2 = cv.bitwise_and(img, img, mask=weird_shape)\n",
    "cv.imshow(\"masked image 2\", masked2)\n",
    "\n",
    "\n",
    "cv.waitKey(0)\n",
    "cv.destroyAllWindows()"
   ]
  }
 ],
 "metadata": {
  "kernelspec": {
   "display_name": "Python 3",
   "language": "python",
   "name": "python3"
  },
  "language_info": {
   "codemirror_mode": {
    "name": "ipython",
    "version": 3
   },
   "file_extension": ".py",
   "mimetype": "text/x-python",
   "name": "python",
   "nbconvert_exporter": "python",
   "pygments_lexer": "ipython3",
   "version": "3.11.7"
  }
 },
 "nbformat": 4,
 "nbformat_minor": 2
}

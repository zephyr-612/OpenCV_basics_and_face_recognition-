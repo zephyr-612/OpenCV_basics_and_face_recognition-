{
 "cells": [
  {
   "cell_type": "code",
   "execution_count": 1,
   "metadata": {},
   "outputs": [],
   "source": [
    "import cv2 as cv\n",
    "import numpy as np\n",
    "\n",
    "img = cv.imread(\"H:\\Code\\Py\\KIIT ML\\OpenCV\\Photos\\park.jpg\")\n",
    "cv.imshow(\"boston\", img)\n",
    "\n",
    "\n",
    "# translation\n",
    "def translate(img, x, y):\n",
    "    transMat = np.float32([[1, 0, x], [0, 1, y]])\n",
    "    dimensions = (img.shape[1], img.shape[0])\n",
    "    return cv.warpAffine(img, transMat, dimensions)\n",
    "\n",
    "\n",
    "# -x --> Left\n",
    "# -y --> Up\n",
    "# +x --> Right\n",
    "# +y --> Down\n",
    "\n",
    "translated = translate(img, 100, 100)\n",
    "cv.imshow(\"Translated IMG\", translated)\n",
    "\n",
    "cv.waitKey(0)\n",
    "cv.destroyAllWindows()"
   ]
  },
  {
   "cell_type": "code",
   "execution_count": 2,
   "metadata": {},
   "outputs": [],
   "source": [
    "# Rotation\n",
    "def rotate(img, angle, rotPoint=None):\n",
    "\n",
    "    (height, width) = img.shape[:2]\n",
    "\n",
    "    if rotPoint is None:\n",
    "        rotPoint = (width // 2, height // 2)\n",
    "\n",
    "    rotMat = cv.getRotationMatrix2D(rotPoint, angle, 1.0)\n",
    "    dimensions = (width, height)\n",
    "\n",
    "\n",
    "    return cv.warpAffine(img, rotMat, dimensions)\n",
    "\n",
    "\n",
    "\n",
    "rotated = rotate(img, 45)\n",
    "cv.imshow(\"rotated\", rotated)\n",
    "# rotate clockwise with -45\n",
    "\n",
    "rotated_2 = rotate(rotated, 45)\n",
    "cv.imshow(\"rotated_2\", rotated_2)\n",
    "\n",
    "\n",
    "rotated_3 = rotate(rotated, 45)\n",
    "cv.imshow(\"rotated_3\", rotated_2)\n",
    "\n",
    "\n",
    "\n",
    "cv.waitKey(0)\n",
    "cv.destroyAllWindows()"
   ]
  },
  {
   "cell_type": "code",
   "execution_count": 10,
   "metadata": {},
   "outputs": [],
   "source": [
    "# Resizing\n",
    "\n",
    "resized = cv.resize(img, (500, 500), interpolation=cv.INTER_CUBIC)\n",
    "cv.imshow(\"resized\", resized)\n",
    "\n",
    "# FLipping\n",
    "\n",
    "flip = cv.flip(img, 0)\n",
    "cv.imshow(\"flipped\", flip)\n",
    "# 0 - flip vertically\n",
    "# 1 - flip horizontally\n",
    "# -1 - flip vertically & horizontally\n",
    "\n",
    "# Cropping\n",
    "\n",
    "cropped = img[200:600, 300:900]\n",
    "cv.imshow(\"cropped\", cropped)\n",
    "\n",
    "cv.waitKey(0)\n",
    "cv.destroyAllWindows()"
   ]
  }
 ],
 "metadata": {
  "kernelspec": {
   "display_name": "Python 3",
   "language": "python",
   "name": "python3"
  },
  "language_info": {
   "codemirror_mode": {
    "name": "ipython",
    "version": 3
   },
   "file_extension": ".py",
   "mimetype": "text/x-python",
   "name": "python",
   "nbconvert_exporter": "python",
   "pygments_lexer": "ipython3",
   "version": "3.11.7"
  }
 },
 "nbformat": 4,
 "nbformat_minor": 2
}

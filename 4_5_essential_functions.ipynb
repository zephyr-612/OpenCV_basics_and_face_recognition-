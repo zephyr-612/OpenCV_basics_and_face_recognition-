{
 "cells": [
  {
   "cell_type": "code",
   "execution_count": 2,
   "metadata": {},
   "outputs": [],
   "source": [
    "import cv2 as cv\n",
    "\n",
    "img = cv.imread(\"H:\\Code\\Py\\KIIT ML\\OpenCV\\Photos\\cat.jpg\")\n",
    "cv.imshow(\"Cat\", img)\n",
    "\n",
    "# convert to grayscale\n",
    "gray = cv.cvtColor(img, cv.COLOR_BGR2GRAY)\n",
    "cv.imshow(\"Gray\", gray)\n",
    "\n",
    "cv.waitKey(0)\n",
    "cv.destroyAllWindows()"
   ]
  },
  {
   "cell_type": "code",
   "execution_count": 3,
   "metadata": {},
   "outputs": [],
   "source": [
    "# blur\n",
    "img2 = cv.imread(\"H:\\Code\\Py\\KIIT ML\\OpenCV\\Photos\\park.jpg\")\n",
    "cv.imshow(\"Boston\", img2)\n",
    "blur = cv.GaussianBlur(img2, (7, 7), cv.BORDER_DEFAULT)\n",
    "# has to be an odd number. eg:(3,3), (7,7), etc.\n",
    "cv.imshow(\"blur\", blur)\n",
    "\n",
    "# canny edges\n",
    "canny = cv.Canny(blur, 125, 175)\n",
    "# we can reduce the amount of edges drastically  by adding blur to the image\n",
    "cv.imshow(\"Canny Edges\", canny)\n",
    "\n",
    "cv.waitKey(0)\n",
    "cv.destroyAllWindows()"
   ]
  },
  {
   "cell_type": "code",
   "execution_count": 4,
   "metadata": {},
   "outputs": [],
   "source": [
    "# Dilating the image\n",
    "dilate = cv.dilate(canny, (7, 7), iterations=3)\n",
    "cv.imshow(\"dilated\", dilate)\n",
    "\n",
    "# Eroding\n",
    "erode = cv.erode(dilate, (7, 7), iterations=2)\n",
    "cv.imshow(\"Eroded\", erode)\n",
    "\n",
    "cv.waitKey(0)\n",
    "cv.destroyAllWindows()"
   ]
  },
  {
   "cell_type": "code",
   "execution_count": 6,
   "metadata": {},
   "outputs": [],
   "source": [
    "cv.imshow(\"Boston\", img2)\n",
    "resize = cv.resize(img2, (500, 500), interpolation=cv.INTER_AREA)\n",
    "cv.imshow(\"Resized\", resize)\n",
    "# cv.INTER_AREA is used when we are resizing to lower size, when resizing to larger size cv.INTER_LINEAR, cv.INTER_CUBIC is used. cv.INTER_CUBIC is slower but give more quality.\n",
    "\n",
    "# Cropping\n",
    "\n",
    "cropped = img2[50:200, 200:400]\n",
    "cv.imshow(\"cropped\", cropped)\n",
    "\n",
    "cv.waitKey(0)\n",
    "cv.destroyAllWindows()"
   ]
  },
  {
   "cell_type": "markdown",
   "metadata": {},
   "source": [
    "IMAGE TRANSFORMATION\n"
   ]
  },
  {
   "cell_type": "code",
   "execution_count": null,
   "metadata": {},
   "outputs": [],
   "source": []
  }
 ],
 "metadata": {
  "kernelspec": {
   "display_name": "Python 3",
   "language": "python",
   "name": "python3"
  },
  "language_info": {
   "codemirror_mode": {
    "name": "ipython",
    "version": 3
   },
   "file_extension": ".py",
   "mimetype": "text/x-python",
   "name": "python",
   "nbconvert_exporter": "python",
   "pygments_lexer": "ipython3",
   "version": "3.11.7"
  }
 },
 "nbformat": 4,
 "nbformat_minor": 2
}

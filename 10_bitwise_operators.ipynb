{
 "cells": [
  {
   "cell_type": "code",
   "execution_count": 11,
   "metadata": {},
   "outputs": [],
   "source": [
    "import cv2 as cv\n",
    "import numpy as np\n",
    "\n",
    "blank = np.zeros((400, 400), dtype=\"uint8\")\n",
    "\n",
    "rectangle = cv.rectangle(blank.copy(), (30, 30), (370, 370), 255, -1)\n",
    "circle = cv.circle(blank.copy(), (200, 200), 200, 255, -1)\n",
    "\n",
    "cv.imshow(\"rectangle\", rectangle)\n",
    "cv.imshow(\"circle\", circle)\n",
    "\n",
    "# Bitwise AND\n",
    "bitwise_and = cv.bitwise_and(rectangle, circle)\n",
    "cv.imshow(\"bitwise_and\", bitwise_and)\n",
    "\n",
    "# Bitwise OR\n",
    "bitwise_or = cv.bitwise_or(rectangle, circle)\n",
    "cv.imshow(\"bitwise_or\", bitwise_or)\n",
    "\n",
    "# Bitwise XOR\n",
    "bitwise_xor = cv.bitwise_xor(rectangle, circle)\n",
    "cv.imshow(\"bitwise_xor\", bitwise_xor)\n",
    "\n",
    "# Bitwise NOT\n",
    "bitwise_not = cv.bitwise_not(rectangle, circle)\n",
    "cv.imshow(\"bitwise_not\", bitwise_not)\n",
    "\n",
    "cv.waitKey(0)\n",
    "cv.destroyAllWindows()"
   ]
  },
  {
   "cell_type": "code",
   "execution_count": null,
   "metadata": {},
   "outputs": [],
   "source": []
  }
 ],
 "metadata": {
  "kernelspec": {
   "display_name": "Python 3",
   "language": "python",
   "name": "python3"
  },
  "language_info": {
   "codemirror_mode": {
    "name": "ipython",
    "version": 3
   },
   "file_extension": ".py",
   "mimetype": "text/x-python",
   "name": "python",
   "nbconvert_exporter": "python",
   "pygments_lexer": "ipython3",
   "version": "3.11.7"
  }
 },
 "nbformat": 4,
 "nbformat_minor": 2
}
